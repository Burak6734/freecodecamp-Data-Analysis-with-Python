{
 "cells": [
  {
   "cell_type": "code",
   "execution_count": 28,
   "id": "9049f51b-26e0-49e3-ba2e-ed65025ac158",
   "metadata": {},
   "outputs": [],
   "source": [
    "import numpy as np\n",
    "from pprint import pprint"
   ]
  },
  {
   "cell_type": "code",
   "execution_count": 29,
   "id": "ff78de4b-b245-4fd1-8583-9f969ec016f1",
   "metadata": {},
   "outputs": [],
   "source": [
    "import numpy as np\n",
    "\n",
    "def calculate(matrix_input):\n",
    " if len(matrix_input) != 9:\n",
    "    raise ValueError(\"List must contain nine numbers.\")\n",
    " matrix_01 = np.array(matrix_input).reshape(3, 3)\n",
    " mean_rows = matrix_01.mean(axis=1).tolist()\n",
    " mean_cols = matrix_01.mean(axis=0).tolist()\n",
    " mean_all = matrix_01.mean().tolist()\n",
    "    \n",
    " var_rows = matrix_01.var(axis=1).tolist()\n",
    " var_cols = matrix_01.var(axis=0).tolist()\n",
    " var_all = matrix_01.var().tolist()\n",
    "    \n",
    " std_rows = matrix_01.std(axis=1).tolist()\n",
    " std_cols = matrix_01.std(axis=0).tolist()\n",
    " std_all = matrix_01.std().tolist()\n",
    "    \n",
    " max_rows = matrix_01.max(axis=1).tolist()\n",
    " max_cols = matrix_01.max(axis=0).tolist()\n",
    " max_all = matrix_01.max().tolist()\n",
    "    \n",
    " min_rows = matrix_01.min(axis=1).tolist()\n",
    " min_cols = matrix_01.min(axis=0).tolist()\n",
    " min_all = matrix_01.min().tolist()\n",
    "    \n",
    " sum_rows = matrix_01.sum(axis=1).tolist()\n",
    " sum_cols = matrix_01.sum(axis=0).tolist()\n",
    " sum_all = matrix_01.sum().tolist()   \n",
    "\n",
    " calculations = {\n",
    "        'mean': [mean_cols,mean_rows, mean_all],\n",
    "        'variance': [var_cols,var_rows, var_all],\n",
    "        'standard deviation': [std_cols,std_rows, std_all],\n",
    "        'max': [max_cols,max_rows, max_all],\n",
    "        'min': [min_cols,min_rows, min_all],\n",
    "        'sum': [sum_cols,sum_rows, sum_all]\n",
    "    }\n",
    " return calculations"
   ]
  },
  {
   "cell_type": "code",
   "execution_count": 32,
   "id": "d0e3ff87-93c8-4712-bd16-d093e8039b39",
   "metadata": {},
   "outputs": [
    {
     "name": "stdout",
     "output_type": "stream",
     "text": [
      "{'max': [[6, 7, 8], [2, 5, 8], 8],\n",
      " 'mean': [[3.0, 4.0, 5.0], [1.0, 4.0, 7.0], 4.0],\n",
      " 'min': [[0, 1, 2], [0, 3, 6], 0],\n",
      " 'standard deviation': [[2.449489742783178,\n",
      "                         2.449489742783178,\n",
      "                         2.449489742783178],\n",
      "                        [0.816496580927726,\n",
      "                         0.816496580927726,\n",
      "                         0.816496580927726],\n",
      "                        2.581988897471611],\n",
      " 'sum': [[9, 12, 15], [3, 12, 21], 36],\n",
      " 'variance': [[6.0, 6.0, 6.0],\n",
      "              [0.6666666666666666, 0.6666666666666666, 0.6666666666666666],\n",
      "              6.666666666666667]}\n"
     ]
    }
   ],
   "source": [
    "k = [0, 1, 2, 3, 4, 5, 6, 7, 8]\n",
    "a = calculate(k)\n",
    "\n",
    "pprint(a)"
   ]
  },
  {
   "cell_type": "code",
   "execution_count": null,
   "id": "5f2c3a83-7e7c-4ae5-ada7-0ba98e34bf68",
   "metadata": {},
   "outputs": [],
   "source": []
  }
 ],
 "metadata": {
  "kernelspec": {
   "display_name": "Python 3 (ipykernel)",
   "language": "python",
   "name": "python3"
  },
  "language_info": {
   "codemirror_mode": {
    "name": "ipython",
    "version": 3
   },
   "file_extension": ".py",
   "mimetype": "text/x-python",
   "name": "python",
   "nbconvert_exporter": "python",
   "pygments_lexer": "ipython3",
   "version": "3.11.7"
  }
 },
 "nbformat": 4,
 "nbformat_minor": 5
}
