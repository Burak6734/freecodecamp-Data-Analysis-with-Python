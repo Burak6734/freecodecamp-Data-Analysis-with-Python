{
 "cells": [
  {
   "cell_type": "code",
   "execution_count": null,
   "id": "3ef7153c-a954-42c5-934e-4110615965d9",
   "metadata": {},
   "outputs": [],
   "source": [
    "import pandas as pd\n",
    "import matplotlib.pyplot as plt\n",
    "from scipy.stats import linregress\n",
    "\n",
    "def draw_plot():\n",
    "    # Read data from file\n",
    "    df=df=pd.read_csv('epa-sea-level.csv')\n",
    "\n",
    "    # Create scatter plot\n",
    "    plt.figure(figsize=(10, 6))\n",
    "    plt.scatter(df['Year'], df['CSIRO Adjusted Sea Level'], color='blue', label='Sea Level Data')\n",
    "\n",
    "    # Create first line of best fit\n",
    "    res = linregress(df['Year'], df['CSIRO Adjusted Sea Level'])\n",
    "    years_extended = pd.Series(range(1880, 2051))\n",
    "    plt.plot(years_extended, res.intercept + res.slope * years_extended, 'r', label='Best Fit Line (1880-2050)')\n",
    "\n",
    "    # Create second line of best fit\n",
    "    df_recent = df[df['Year'] >= 2000]\n",
    "    res_recent = linregress(df_recent['Year'], df_recent['CSIRO Adjusted Sea Level'])\n",
    "    years_recent_extended = pd.Series(range(2000, 2051))\n",
    "    plt.plot(years_recent_extended, res_recent.intercept + res_recent.slope * years_recent_extended, 'green', label='Best Fit Line (2000-2050)')\n",
    "\n",
    "    # Add labels and title\n",
    "    plt.xlabel('Year')\n",
    "    plt.ylabel('Sea Level (inches)')\n",
    "    plt.title('Rise in Sea Level')\n",
    "    plt.legend()\n",
    "    \n",
    "    # Save plot and return data for testing (DO NOT MODIFY)\n",
    "    plt.savefig('sea_level_plot.png')\n",
    "    return plt.gca()"
   ]
  },
  {
   "cell_type": "code",
   "execution_count": null,
   "id": "5ad7cfde-1e81-4759-bde8-ab17a2580667",
   "metadata": {},
   "outputs": [],
   "source": [
    "draw_plot()"
   ]
  },
  {
   "cell_type": "code",
   "execution_count": null,
   "id": "9dc846c9-6ba9-46d8-8da6-325aff0d39c4",
   "metadata": {},
   "outputs": [],
   "source": []
  }
 ],
 "metadata": {
  "kernelspec": {
   "display_name": "Python 3 (ipykernel)",
   "language": "python",
   "name": "python3"
  },
  "language_info": {
   "codemirror_mode": {
    "name": "ipython",
    "version": 3
   },
   "file_extension": ".py",
   "mimetype": "text/x-python",
   "name": "python",
   "nbconvert_exporter": "python",
   "pygments_lexer": "ipython3",
   "version": "3.11.7"
  }
 },
 "nbformat": 4,
 "nbformat_minor": 5
}
