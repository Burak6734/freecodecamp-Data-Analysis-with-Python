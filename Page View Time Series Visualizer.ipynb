{
 "cells": [
  {
   "cell_type": "code",
   "execution_count": null,
   "id": "75369f92-b933-44ae-a55f-8484b0f87aee",
   "metadata": {},
   "outputs": [],
   "source": [
    "import matplotlib.pyplot as plt\n",
    "import pandas as pd\n",
    "import seaborn as sns\n",
    "import numpy as np\n",
    "from pandas.plotting import register_matplotlib_converters\n",
    "register_matplotlib_converters()\n",
    "if not hasattr(np, 'float'):\n",
    " np.float = float\n",
    "# Import data (Make sure to parse dates. Consider setting index column to 'date'.)\n",
    "df = pd.read_csv(\"fcc-forum-pageviews.csv\", index_col=\"date\", parse_dates=[\"date\"])\n",
    "\n",
    "# Clean data\n",
    "df = df[\n",
    "    (df['value'] >= df['value'].quantile(0.025)) &\n",
    "    (df['value'] <= df['value'].quantile(0.975))\n",
    "]\n",
    "\n",
    "def draw_line_plot():\n",
    "    # Draw line plot\n",
    "    fig, ax = plt.subplots(figsize=(10,5))\n",
    "    ax.plot(df.index, df[\"value\"],\"r\",linewidth=1)\n",
    "    ax.set_title(\"Daily freeCodeCamp Forum Page Views 5/2016-12/2019\")\n",
    "    ax.set_xlabel(\"Date\")\n",
    "    ax.set_ylabel(\"Page Views\")\n",
    "    # Save image and return fig (don't change this part)\n",
    "    fig.savefig('line_plot.png')\n",
    "    return fig"
   ]
  },
  {
   "cell_type": "code",
   "execution_count": null,
   "id": "59d3bf3a-06ac-4d8c-afb9-a3067e83a6af",
   "metadata": {},
   "outputs": [],
   "source": [
    "def draw_bar_plot():\n",
    "    # Copy and modify data for monthly bar plot\n",
    "    df[\"Month\"]=df.index.month\n",
    "    df[\"Year\"]=df.index.year\n",
    "    df_bar=df.groupby([\"Year\",\"Month\"])[\"value\"].mean()\n",
    "    df_bar=df_bar.unstack()\n",
    "\n",
    "    # Draw bar plot\n",
    "    fig=df_bar.plot.bar(legend=True,figsize=(10,5),ylabel=\"Average Page Views\",xlabel=\"Years\").figure\n",
    "    plt.legend(['January', 'February', 'March', 'April', 'May', 'June','July', 'August', 'September', 'October', 'November', 'December'])\n",
    "    plt.xticks(fontsize=10)\n",
    "    plt.yticks(fontsize=20)\n",
    "\n",
    "    # Save image and return fig (don't change this part)\n",
    "    fig.savefig('bar_plot.png')\n",
    "    return fig"
   ]
  },
  {
   "cell_type": "code",
   "execution_count": null,
   "id": "41ccd391-68da-4b66-8bf0-71ade50bb1e8",
   "metadata": {},
   "outputs": [],
   "source": [
    "def draw_box_plot():\n",
    "    # Prepare data for box plots (this part is done!)\n",
    "    df_box = df.copy()\n",
    "    df_box.reset_index(inplace=True)\n",
    "    df_box['year'] = [d.year for d in df_box.date]\n",
    "    df_box['month'] = [d.strftime('%b') for d in df_box.date]\n",
    "\n",
    "    # Draw box plots (using Seaborn)\n",
    "    df_box[\"month_num\"]=df_box[\"date\"].dt.month\n",
    "    df_box=df_box.sort_values(\"month_num\")\n",
    "\n",
    "    fig,axes=plt.subplots(nrows=1, ncols=2, figsize=(10,5))\n",
    "    axes[0]=sns.boxplot(x=df_box[\"year\"], y=df_box[\"value\"], ax=axes[0])\n",
    "    #axes[1]=sns.boxplot(x=df_box['month'], y=df_box[\"value\"], ax=axes[1])\n",
    "    axes[1] =sns.boxplot(x = df_box['month'],y = df_box['value'], ax=axes[1], order = ['Jan','Feb','Mar','Apr','May','Jun','Jul','Aug','Sep','Oct','Nov', 'Dec'])\n",
    "\n",
    "    axes[0].set_title(\"Year-wise Box Plot (Trend)\")\n",
    "    axes[0].set_xlabel(\"Year\")\n",
    "    axes[0].set_ylabel(\"Page Views\")\n",
    "\n",
    "    axes[1].set_title(\"Month-wise Box Plot (Seasonality)\")\n",
    "    axes[1].set_xlabel(\"Month\")\n",
    "    axes[1].set_ylabel(\"Page Views\")\n",
    "\n",
    "    # Save image and return fig (don't change this part)\n",
    "    fig.savefig('box_plot.png')\n",
    "    return fig"
   ]
  },
  {
   "cell_type": "code",
   "execution_count": null,
   "id": "6f1d7cdb-b995-4e7f-93b1-95e107b69546",
   "metadata": {},
   "outputs": [],
   "source": [
    "draw_line_plot()"
   ]
  },
  {
   "cell_type": "code",
   "execution_count": null,
   "id": "114a291e-51e9-47f7-8a00-2080f523f99c",
   "metadata": {},
   "outputs": [],
   "source": [
    "draw_bar_plot()"
   ]
  },
  {
   "cell_type": "code",
   "execution_count": null,
   "id": "e6c87cb0-80cb-4739-b54c-286f1c16cb30",
   "metadata": {},
   "outputs": [],
   "source": [
    "draw_box_plot()"
   ]
  }
 ],
 "metadata": {
  "kernelspec": {
   "display_name": "Python 3 (ipykernel)",
   "language": "python",
   "name": "python3"
  },
  "language_info": {
   "codemirror_mode": {
    "name": "ipython",
    "version": 3
   },
   "file_extension": ".py",
   "mimetype": "text/x-python",
   "name": "python",
   "nbconvert_exporter": "python",
   "pygments_lexer": "ipython3",
   "version": "3.11.7"
  }
 },
 "nbformat": 4,
 "nbformat_minor": 5
}
