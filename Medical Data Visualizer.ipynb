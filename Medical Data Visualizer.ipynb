{
 "cells": [
  {
   "cell_type": "code",
   "execution_count": null,
   "id": "bb58ac21-8f17-4d16-8f39-79b785ff3ef6",
   "metadata": {},
   "outputs": [],
   "source": [
    "import pandas as pd\n",
    "import seaborn as sns\n",
    "import matplotlib.pyplot as plt\n",
    "import numpy as np\n",
    "\n",
    "# 1\n",
    "df = df = pd.read_csv('medical_examination.csv')\n",
    "\n",
    "# 2\n",
    "df['overweight'] = (df['weight'] / ((df['height']/100) ** 2)).apply(lambda x: 1 if x > 25 else 0)\n",
    "\n",
    "# 3\n",
    "df['cholesterol'] = df['cholesterol'].apply(lambda x: 0 if x == 1 else 1)\n",
    "df['gluc'] = df['gluc'].apply(lambda x: 0 if x == 1 else 1)\n",
    "\n",
    "# 4\n",
    "def draw_cat_plot():\n",
    "    # 5\n",
    "    df_cat = pd.melt(df, id_vars=['cardio'], value_vars=[\"cholesterol\", 'gluc', 'smoke','alco','active','overweight'])\n",
    "    df_cat['variable'] = df_cat['variable'].astype(str)\n",
    "    df_cat['value'] = df_cat['value'].astype(str)\n",
    "\n",
    "    # 6\n",
    "    df_cat[\"total\"]=1\n",
    "    df_cat = df_cat.groupby([\"cardio\", \"variable\", \"value\"], as_index=False).count()\n",
    "\n",
    "    # 7\n",
    "\n",
    "    # 8\n",
    "    fig = sns.catplot(x=\"variable\", y=\"total\", data=df_cat, hue=\"value\", kind=\"bar\",col=\"cardio\").fig\n",
    "\n",
    "    # 9\n",
    "    fig.savefig('catplot.png')\n",
    "    return fig\n",
    "draw_cat_plot()"
   ]
  },
  {
   "cell_type": "code",
   "execution_count": null,
   "id": "0df977c6-5eba-426f-a117-06730e2380d9",
   "metadata": {},
   "outputs": [],
   "source": [
    "# 10\n",
    "def draw_heat_map():\n",
    "    # 11\n",
    "    df_heat = df[\n",
    "        (df['ap_lo'] <= df['ap_hi']) &\n",
    "        (df['height'] >= df['height'].quantile(0.025)) &\n",
    "        (df['height'] <= df['height'].quantile(0.975)) &\n",
    "        (df['weight'] >= df['weight'].quantile(0.025)) &\n",
    "        (df['weight'] <= df['weight'].quantile(0.975))\n",
    "    ]\n",
    "\n",
    "    # 12\n",
    "    corr = df_heat.corr(method=\"pearson\").round(1)\n",
    "\n",
    "    # 13\n",
    "    mask = np.triu(np.ones_like(corr, dtype=bool))\n",
    "\n",
    "    # 14\n",
    "    fig, ax = plt.subplots(figsize=(12, 12))\n",
    "\n",
    "    # 15\n",
    "    cmap = sns.diverging_palette(220, 20, as_cmap=True)\n",
    "    sns.heatmap(corr, linewidths=1, annot=True, square=True, mask=mask, fmt =\".1f\", center = 0, cbar_kws={\"shrink\": .5})\n",
    "\n",
    "    # 16\n",
    "    fig.savefig('heatmap.png')\n",
    "    return fig\n",
    "draw_heat_map()"
   ]
  },
  {
   "cell_type": "code",
   "execution_count": null,
   "id": "a5824484-8f2b-467c-b146-2d34c4e81870",
   "metadata": {},
   "outputs": [],
   "source": []
  }
 ],
 "metadata": {
  "kernelspec": {
   "display_name": "Python 3 (ipykernel)",
   "language": "python",
   "name": "python3"
  },
  "language_info": {
   "codemirror_mode": {
    "name": "ipython",
    "version": 3
   },
   "file_extension": ".py",
   "mimetype": "text/x-python",
   "name": "python",
   "nbconvert_exporter": "python",
   "pygments_lexer": "ipython3",
   "version": "3.11.7"
  }
 },
 "nbformat": 4,
 "nbformat_minor": 5
}
